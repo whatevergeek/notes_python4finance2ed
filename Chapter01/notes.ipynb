{
 "cells": [
  {
   "cell_type": "code",
   "execution_count": 5,
   "metadata": {},
   "outputs": [
    {
     "name": "stdout",
     "output_type": "stream",
     "text": [
      "         Date   Open   High    Low  Close    Volume  Adj Close\n",
      "0  2013-10-04  13.84  13.84  13.83  13.84   9115200      13.84\n",
      "1  2013-10-03  13.83  13.85  13.83  13.83  12388500      13.83\n",
      "2  2013-10-02  13.83  13.84  13.83  13.83   6573000      13.83\n",
      "3  2013-10-01  13.82  13.84  13.81  13.84  29168900      13.84\n",
      "4  2013-09-30  13.77  13.78  13.75  13.75  16209700      13.75\n"
     ]
    }
   ],
   "source": [
    "import pandas as pd\n",
    "url='http://canisius.edu/~yany/data/dell.csv'\n",
    "x=pd.read_csv(url)\n",
    "print(x.head())"
   ]
  },
  {
   "cell_type": "code",
   "execution_count": 4,
   "metadata": {},
   "outputs": [],
   "source": [
    "# x.to_csv(\"./data/ibm.csv\")"
   ]
  },
  {
   "cell_type": "code",
   "execution_count": 6,
   "metadata": {},
   "outputs": [],
   "source": [
    "x.to_csv(\"./data/dell.csv\")"
   ]
  },
  {
   "cell_type": "code",
   "execution_count": null,
   "metadata": {},
   "outputs": [],
   "source": []
  }
 ],
 "metadata": {
  "kernelspec": {
   "display_name": "Python 3",
   "language": "python",
   "name": "python3"
  },
  "language_info": {
   "codemirror_mode": {
    "name": "ipython",
    "version": 3
   },
   "file_extension": ".py",
   "mimetype": "text/x-python",
   "name": "python",
   "nbconvert_exporter": "python",
   "pygments_lexer": "ipython3",
   "version": "3.7.3"
  }
 },
 "nbformat": 4,
 "nbformat_minor": 2
}
